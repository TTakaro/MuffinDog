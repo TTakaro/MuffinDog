{
 "cells": [
  {
   "cell_type": "markdown",
   "id": "699fd2d7",
   "metadata": {},
   "source": [
    "# Set up an image classifier to identify dogs vs muffins"
   ]
  },
  {
   "cell_type": "code",
   "execution_count": 1,
   "id": "f673561f",
   "metadata": {},
   "outputs": [
    {
     "name": "stderr",
     "output_type": "stream",
     "text": [
      "2023-07-28 13:48:13.099455: I tensorflow/core/platform/cpu_feature_guard.cc:182] This TensorFlow binary is optimized to use available CPU instructions in performance-critical operations.\n",
      "To enable the following instructions: AVX2 FMA, in other operations, rebuild TensorFlow with the appropriate compiler flags.\n"
     ]
    }
   ],
   "source": [
    "import numpy as np\n",
    "import matplotlib.pyplot as plt\n",
    "import pandas as pd\n",
    "import sklearn as sk\n",
    "from sklearn.model_selection import train_test_split\n",
    "\n",
    "import tensorflow as tf\n",
    "from tensorflow import keras\n",
    "from tensorflow.keras.preprocessing.image import ImageDataGenerator"
   ]
  },
  {
   "cell_type": "code",
   "execution_count": 2,
   "id": "54ca751e",
   "metadata": {},
   "outputs": [
    {
     "name": "stdout",
     "output_type": "stream",
     "text": [
      "Found 4733 files belonging to 2 classes.\n",
      "Found 1184 files belonging to 2 classes.\n"
     ]
    }
   ],
   "source": [
    "# Lets load in our data set and mix em up a bit\n",
    "seed_train_validation = 1 # Seed for repeatability\n",
    "\n",
    "train_datagen = ImageDataGenerator(rescale=1.0/255,\n",
    "                                  zoom_range=0.2,\n",
    "                                  shear_range=0.2,\n",
    "                                  rotation_range=10,\n",
    "                                  width_shift_range=0.2,\n",
    "                                  height_shift_range=0.2,\n",
    "                                  horizontal_flip=True,\n",
    "                                  fill_mode='nearest')\n",
    "\n",
    "# Load our training dataset\n",
    "train_ds = keras.utils.image_dataset_from_directory(\n",
    "    directory ='/Users/tktakaro/Documents/ML_Projects/MuffinDog/train',\n",
    "    image_size = (150,150),\n",
    "    seed = seed_train_validation,\n",
    "    color_mode='rgb',\n",
    "    label_mode = 'categorical',\n",
    "    batch_size=32,\n",
    "    shuffle = True)\n",
    "\n",
    "test_datagen = ImageDataGenerator(rescale=1./255)\n",
    "# Load our test dataset\n",
    "test_val_ds = keras.utils.image_dataset_from_directory(\n",
    "    directory ='/Users/tktakaro/Documents/ML_Projects/MuffinDog/test',\n",
    "    image_size = (150,150),\n",
    "    seed = seed_train_validation,\n",
    "    label_mode = 'categorical',\n",
    "    batch_size=32,\n",
    "    color_mode = 'rgb',\n",
    "    shuffle = True)"
   ]
  },
  {
   "cell_type": "code",
   "execution_count": 3,
   "id": "8eaa6629",
   "metadata": {},
   "outputs": [],
   "source": [
    "# Split the test dataset in half to give us a validation dataset too\n",
    "batches = tf.data.experimental.cardinality(test_val_ds) # How many files in test dataset?\n",
    "test_ds = test_val_ds.take(batches // 2)\n",
    "val_ds = test_val_ds.skip(batches // 2)"
   ]
  },
  {
   "cell_type": "code",
   "execution_count": 5,
   "id": "1b99a67a",
   "metadata": {},
   "outputs": [
    {
     "name": "stdout",
     "output_type": "stream",
     "text": [
      "Epoch 1/10\n",
      "14/14 [==============================] - 34s 2s/step - loss: 0.9995 - accuracy: 0.8772 - val_loss: 0.2640 - val_accuracy: 0.9655\n",
      "Epoch 2/10\n",
      "14/14 [==============================] - 32s 2s/step - loss: 0.4265 - accuracy: 0.9621 - val_loss: 0.2631 - val_accuracy: 0.9720\n",
      "Epoch 3/10\n",
      "14/14 [==============================] - 33s 2s/step - loss: 0.2786 - accuracy: 0.9710 - val_loss: 0.4454 - val_accuracy: 0.9507\n",
      "Epoch 4/10\n",
      "14/14 [==============================] - 33s 2s/step - loss: 0.3093 - accuracy: 0.9621 - val_loss: 0.2293 - val_accuracy: 0.9737\n",
      "Epoch 5/10\n",
      "14/14 [==============================] - 32s 2s/step - loss: 0.4040 - accuracy: 0.9665 - val_loss: 0.2383 - val_accuracy: 0.9688\n",
      "Epoch 6/10\n",
      "14/14 [==============================] - 32s 2s/step - loss: 0.1468 - accuracy: 0.9799 - val_loss: 0.2073 - val_accuracy: 0.9720\n",
      "Epoch 7/10\n",
      "14/14 [==============================] - 32s 2s/step - loss: 0.1982 - accuracy: 0.9754 - val_loss: 0.2611 - val_accuracy: 0.9737\n",
      "Epoch 8/10\n",
      "14/14 [==============================] - 32s 2s/step - loss: 0.3818 - accuracy: 0.9754 - val_loss: 0.6684 - val_accuracy: 0.9539\n",
      "Epoch 9/10\n",
      "14/14 [==============================] - 32s 2s/step - loss: 0.2646 - accuracy: 0.9710 - val_loss: 0.4565 - val_accuracy: 0.9589\n",
      "Epoch 10/10\n",
      "14/14 [==============================] - 33s 2s/step - loss: 0.3867 - accuracy: 0.9688 - val_loss: 0.2209 - val_accuracy: 0.9753\n"
     ]
    },
    {
     "data": {
      "text/plain": [
       "<keras.src.callbacks.History at 0x7fed5fc94040>"
      ]
     },
     "execution_count": 5,
     "metadata": {},
     "output_type": "execute_result"
    }
   ],
   "source": [
    "# First, use ResNet as a base model\n",
    "base_model = keras.applications.ResNet50(weights='imagenet', include_top = False, input_shape=(150,150,3))\n",
    "# Freeze layers from base_model to only train new specialized layers for this problem\n",
    "for layer in base_model.layers:\n",
    "    layer.trainable = False\n",
    "        \n",
    "# Build up layers\n",
    "x = base_model.output    \n",
    "x = (keras.layers.Dropout(0.2))(x)    \n",
    "x = keras.layers.Flatten()(x)\n",
    "# Two categories: Muffins and Dogs\n",
    "predictions = keras.layers.Dense(2, activation = 'softmax')(x)\n",
    "\n",
    "# Set up and compile model\n",
    "model = keras.models.Model(inputs = base_model.input , outputs =  predictions)\n",
    "    \n",
    "model.compile(optimizer='Nadam', loss = 'categorical_crossentropy', metrics = ['accuracy'])\n",
    "\n",
    "# Run the fit\n",
    "model.fit(train_ds, \n",
    "    epochs = 10 , validation_data=val_ds,\n",
    "    steps_per_epoch = len(train_ds)//10,\n",
    "    validation_steps=len(val_ds),)"
   ]
  },
  {
   "cell_type": "markdown",
   "id": "e553dda2",
   "metadata": {},
   "source": [
    "## Now lets try messing with a tuner to find the best optimizer"
   ]
  },
  {
   "cell_type": "code",
   "execution_count": 6,
   "id": "c5c6d628",
   "metadata": {},
   "outputs": [],
   "source": [
    "import keras_tuner\n",
    "from keras_tuner import RandomSearch\n",
    "\n",
    "def built_finetune_model(hp): \n",
    "    # Same model architecture as before, just now adding an optimizer chooser\n",
    "    base_model = keras.applications.ResNet50(\n",
    "    weights='imagenet',\n",
    "    include_top = False,\n",
    "    input_shape=(150,150,3),)\n",
    "        \n",
    "    for layer in base_model.layers:\n",
    "        layer.trainable = False\n",
    "        \n",
    "    x = base_model.output\n",
    "    x = (keras.layers.Dropout(0.2))(x)\n",
    "    x = keras.layers.Flatten()(x)\n",
    "\n",
    "    predictions = keras.layers.Dense(2 , activation = 'softmax')(x)\n",
    "\n",
    "    finetune_model = keras.models.Model(inputs = base_model.input , outputs =  predictions)\n",
    "    # Set up optimizers\n",
    "    adam = keras.optimizers.Adam(hp.Choice('learning_rate',values=[1e-2, 1e-3, 1e-4]))\n",
    "    sgd = keras.optimizers.SGD(hp.Choice('learning_rate',values=[1e-2, 1e-3, 1e-4]))\n",
    "    rmsprop = keras.optimizers.RMSprop(hp.Choice('learning_rate',values=[1e-2, 1e-3, 1e-4]))\n",
    "    nadam = keras.optimizers.Nadam(hp.Choice('learning_rate',values=[1e-2, 1e-3, 1e-4]))\n",
    "    adadelta = keras.optimizers.Adadelta(hp.Choice('learning_rate',values=[1e-2, 1e-3, 1e-4]))\n",
    "    \n",
    "    # Choose and compile\n",
    "    optimizer1 = hp.Choice('optimizer' , values = ['adam','sgd','rmsprop','nadam','adadelta'])\n",
    "    finetune_model.compile(optimizer =optimizer1,\n",
    "                           loss = 'categorical_crossentropy',\n",
    "                           metrics = ['accuracy'])\n",
    "    return finetune_model"
   ]
  },
  {
   "cell_type": "code",
   "execution_count": 7,
   "id": "6e3612c0",
   "metadata": {},
   "outputs": [
    {
     "name": "stdout",
     "output_type": "stream",
     "text": [
      "Trial 5 Complete [00h 01m 13s]\n",
      "accuracy: 0.9770833253860474\n",
      "\n",
      "Best accuracy So Far: 0.9770833253860474\n",
      "Total elapsed time: 00h 03m 33s\n",
      "INFO:tensorflow:Oracle triggered exit\n"
     ]
    }
   ],
   "source": [
    "# Set up tuner to search for best model\n",
    "tuner = RandomSearch(\n",
    "    built_finetune_model,\n",
    "    keras_tuner.Objective(\"accuracy\", direction=\"max\"),\n",
    "    max_trials = 5,\n",
    "    executions_per_trial = 1,\n",
    "    directory = 'my_dir_resnet1',\n",
    "\n",
    ")\n",
    "# Run tuner\n",
    "tuner.search(\n",
    "    train_ds , \n",
    "    epochs = 2 , \n",
    "    validation_data=test_ds,\n",
    "    steps_per_epoch = len(train_ds)/10 ,\n",
    "    validation_steps=len(test_ds),\n",
    ")"
   ]
  },
  {
   "cell_type": "code",
   "execution_count": null,
   "id": "36edebb3",
   "metadata": {},
   "outputs": [
    {
     "name": "stdout",
     "output_type": "stream",
     "text": [
      "Epoch 1/10\n",
      "114/148 [======================>.......] - ETA: 32s - loss: 0.8780 - accuracy: 0.9762"
     ]
    }
   ],
   "source": [
    "# Extract params from best model\n",
    "tuner.get_best_hyperparameters()[0].values\n",
    "model = tuner.get_best_models(num_models =1)[0]\n",
    "# Run fit\n",
    "model.fit(train_ds , \n",
    "    epochs = 10 , validation_data=val_ds,\n",
    "    steps_per_epoch = len(train_ds) ,\n",
    "    validation_steps=len(val_ds),)"
   ]
  },
  {
   "cell_type": "code",
   "execution_count": null,
   "id": "6483a3d0",
   "metadata": {},
   "outputs": [],
   "source": []
  }
 ],
 "metadata": {
  "kernelspec": {
   "display_name": "Python 3 (ipykernel)",
   "language": "python",
   "name": "python3"
  },
  "language_info": {
   "codemirror_mode": {
    "name": "ipython",
    "version": 3
   },
   "file_extension": ".py",
   "mimetype": "text/x-python",
   "name": "python",
   "nbconvert_exporter": "python",
   "pygments_lexer": "ipython3",
   "version": "3.10.9"
  }
 },
 "nbformat": 4,
 "nbformat_minor": 5
}
